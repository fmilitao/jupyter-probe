{
 "cells": [
  {
   "cell_type": "code",
   "execution_count": 1,
   "metadata": {},
   "outputs": [],
   "source": [
    "from IPython.display import HTML, display\n",
    "from IPython.core.debugger import set_trace, Pdb\n",
    "from tabulate import tabulate\n",
    "from ipywidgets import interact, IntSlider, Textarea\n",
    "\n",
    "runcall = Pdb().runcall\n",
    "# set breakpoint in code: set_trace()\n",
    "# call function with arguments: runcall(computeLargestSuffixBorderIndexAndShift, \"argument\")\n",
    "# see: http://frid.github.io/blog/2014/06/05/python-ipdb-cheatsheet/"
   ]
  },
  {
   "cell_type": "markdown",
   "metadata": {},
   "source": [
    "# Boyer-Moore String Search Algorithm\n",
    "\n",
    "Searches for a `pattern` in `text`. Assumes that `text` is much larger than `pattern`.\n",
    "\n",
    "Core observations:\n",
    "\n",
    " * Match `pattern` right-to-left, from the last character to the first.\n",
    " \n",
    "     ```\n",
    "     ...textual... <- text\n",
    "        pattern    <- pattern\n",
    "        7654321    <- char test order\n",
    "     ```\n",
    " \n",
    " * Defines a set of _shift rules_ to maximize the amount of characters that can be skipped when a mismatch is found.\n",
    " \n",
    " These rules reason about what parts of `text` can or cannot ever match `pattern`. These conditions are conservative to avoid missing matches but they can still speedup the search considerably."
   ]
  },
  {
   "cell_type": "markdown",
   "metadata": {},
   "source": [
    "## Shift Rules\n",
    "\n",
    "The final shift is the `max` of applying the following two rules: [bad character rule](#1.-Bad-Character-Rule) and [good suffix rule](#2.-Good-Suffix-Rule).\n",
    "\n",
    "Note that the rules are only applied when a mismatch occurs."
   ]
  },
  {
   "cell_type": "markdown",
   "metadata": {},
   "source": [
    "### 1. Bad Character Rule\n",
    "\n",
    "Consider the `mismatched-char` in `text` that failed the comparison process, i.e. the `mismatched-char` does not occur in `pattern` at that specific position. We have the following two cases:\n",
    "\n",
    "* The `mismatched-char` **does not occur** in `pattern`.\n",
    "\n",
    "    Then shift `pattern` past the `mismatched-char`. Naturally, the `pattern` cannot occur with a character that is not in `pattern`. We can therefore ignore the part of the `text` to the left and including the `mismatched-char`.\n",
    "\n",
    "    _Example 1:_\n",
    "    ```\n",
    "    ...potato... <- text\n",
    "       dog       <- 't' does not appear in 'dog'\n",
    "          dog    <- next position skips checks on 'po' and moves past 't'\n",
    "    ```\n",
    "\n",
    "    _Example 2:_\n",
    "    ```\n",
    "    ...ralopithecu... <- text\n",
    "       sandpit        <- 'o' does not appear in 'sandpit'\n",
    "           sandpit    <- next position skips checks on 'sand' and moves past 'o'\n",
    "    ```\n",
    "\n",
    "* The `mismatched-char` **does occur** in `pattern`.\n",
    "\n",
    "    Then align the `pattern` with the closest occurrence of the `mismatched-char` to the left of the current position in `pattern`. If it were not to the left of the current position, then we could go back to a previous search state and we could not guarantee the search algorithm's progress.\n",
    "    It is sound to skip these positions since `pattern` cannot appear in this position, and the skipped characters are the minimum to align the `mismatched-char`.\n",
    "   \n",
    "    _Example 1:_\n",
    "    ```\n",
    "    ...longhory... <- text\n",
    "         horn      <- 'o' does not appear in that position but does occur in 'horn'\n",
    "           horn    <- next position skips 2 positions\n",
    "    ```\n",
    "    \n",
    "    _Example 2:_\n",
    "    ```\n",
    "    ...bajhooes...  <- text\n",
    "       potatoes     <- 'o' does not appear in that position\n",
    "           potatoes <- shift to the next 'o' to the left of the current position\n",
    "    ```\n",
    "\n",
    "#### Computing The Bad Character Rule\n",
    "\n",
    "We want to avoid having to search for the last position of the character on each mismatch, so instead we precompute a table to perform that lookup more quickly.\n",
    "\n",
    "__A. Precompute the full 2D lookup table__\n",
    "\n",
    "Indexed by the position of the `character` in the alphabet and by the `index` in the `pattern`.\n",
    "\n",
    "To keep the representation shorter, we will omit all alphabet characters that do not appear in the `pattern`."
   ]
  },
  {
   "cell_type": "code",
   "execution_count": 2,
   "metadata": {
    "code_folding": []
   },
   "outputs": [
    {
     "data": {
      "application/vnd.jupyter.widget-view+json": {
       "model_id": "840a80c0f24346bba1fc14ed90e49c56",
       "version_major": 2,
       "version_minor": 0
      },
      "text/plain": [
       "interactive(children=(Text(value='hello', description='pattern'), Output()), _dom_classes=('widget-interact',)…"
      ]
     },
     "metadata": {},
     "output_type": "display_data"
    }
   ],
   "source": [
    "def precompute2D(pattern):\n",
    "    l = list(pattern)\n",
    "    res = []\n",
    "    row = {char: -1 for char in l}\n",
    "    for (index, char) in enumerate(l):\n",
    "        row[char] = index\n",
    "        res = res + [dict(row)]\n",
    "    return res\n",
    "\n",
    "@interact(pattern='hello')\n",
    "def showPrecompute2D(pattern):\n",
    "    res = precompute2D(pattern)\n",
    "    \n",
    "    keys = res[0] if res else {}\n",
    "    table = [ [index] + [ d[k] for k in keys ] for (index, d) in enumerate(res) ]\n",
    "    \n",
    "    display(HTML('<h5>last index of char left of position</h5>'))\n",
    "    return HTML(tabulate(\n",
    "        [[''] + list(keys.keys())] + table,\n",
    "        tablefmt='html'\n",
    "    ))"
   ]
  },
  {
   "cell_type": "markdown",
   "metadata": {},
   "source": [
    "__B. Precompute a 1D lookup table with an approximation of the previous table__\n",
    "\n",
    "Shrinks the 2D table into a 1D array. Only uses the last occurrence of a character. As a result, if a character occurs before its last position (for instance the first `o` in `potato`) the shift in the table will be incorrect. Instead, in that situation, the shift to use should be `1` since that is the largest possible shift that still ensures correctness."
   ]
  },
  {
   "cell_type": "code",
   "execution_count": 3,
   "metadata": {},
   "outputs": [
    {
     "data": {
      "application/vnd.jupyter.widget-view+json": {
       "model_id": "48e00586c7fd41ee9d40c0df6d154538",
       "version_major": 2,
       "version_minor": 0
      },
      "text/plain": [
       "interactive(children=(Text(value='hello', description='pattern'), Output()), _dom_classes=('widget-interact',)…"
      ]
     },
     "metadata": {},
     "output_type": "display_data"
    }
   ],
   "source": [
    "def computeBadCharacterTable(pattern):\n",
    "    return {char: index for (index, char) in enumerate(list(pattern))}\n",
    "\n",
    "@interact(pattern='hello')\n",
    "def show(pattern):\n",
    "    t = computeBadCharacterTable(pattern)\n",
    "    \n",
    "    patternTable = [['pattern:'] + list(pattern),\n",
    "                    ['index:'] + list(range(len(pattern)))]\n",
    "    display(HTML(tabulate(patternTable, tablefmt='html')))\n",
    "    display(HTML('pattern length: ' + str(len(pattern))))\n",
    "    display(HTML('<h5>last index of letter</h5>'))\n",
    "    table = [[\"letter:\"] + list(t.keys()),\n",
    "             [\"last-index:\"] + list(t.values())]\n",
    "    return HTML(tabulate(table, tablefmt='html'))"
   ]
  },
  {
   "cell_type": "markdown",
   "metadata": {},
   "source": [
    "### 2. Good Suffix Rule\n",
    "\n",
    "This rule handles the case of when a partial match is found. Thus, `pattern` contains a suffix that is in the `text` we are searching on. The shift distance is computed based on the following two cases:\n",
    "\n",
    "* The full suffix appears somewhere else in the `pattern`.\n",
    "* Only part of the suffix appears at the beginning of the `pattern`.\n",
    "\n",
    "To understand how to compute this shift distance, we will first discuss some relevant background.\n",
    "\n",
    "#### [Background] Borders\n",
    "\n",
    "Consider all prefixes and suffixes of a `pattern` such that they are not equal to the `pattern` itself (i.e. they are missing the last/first character in `pattern`, respectively) and call them _proper_ prefix and _proper_ suffix. Then a border is a `string` that is both a proper prefix and a proper suffix of a `pattern`.\n",
    "\n",
    "(See http://www.inf.fh-flensburg.de/lang/algorithmen/pattern/kmpen.htm#section2 for a detailed explanation on borders.)"
   ]
  },
  {
   "cell_type": "code",
   "execution_count": 4,
   "metadata": {},
   "outputs": [
    {
     "data": {
      "application/vnd.jupyter.widget-view+json": {
       "model_id": "e027b7ac17694e0192d55abb8bc52f57",
       "version_major": 2,
       "version_minor": 0
      },
      "text/plain": [
       "interactive(children=(Text(value='abacab', description='pattern'), Output()), _dom_classes=('widget-interact',…"
      ]
     },
     "metadata": {},
     "output_type": "display_data"
    }
   ],
   "source": [
    "def getProperPrefixes(pattern):\n",
    "    return [pattern[:i] for i in range(0,len(pattern))]\n",
    "\n",
    "def getProperSuffixes(pattern):\n",
    "    return [pattern[i:] for i in range(1,len(pattern)+1)]\n",
    "\n",
    "def getBorders(pattern):\n",
    "    properPrefixes = getProperPrefixes(pattern)\n",
    "    properSuffixes = getProperSuffixes(pattern)\n",
    "    borders = set(properPrefixes).intersection(set(properSuffixes))\n",
    "    return (properPrefixes, properSuffixes, borders)\n",
    "\n",
    "@interact(pattern = 'abacab')\n",
    "def showBorders(pattern):\n",
    "    # show empty string as empty symbol and wrap string in single quotes for clarity    \n",
    "    format = lambda stringList: ['ε' if len(s) == 0 else \"'{}'\".format(s) for s in stringList]\n",
    "    \n",
    "    (properPrefixes, properSuffixes, borders) = getBorders(pattern)\n",
    "    \n",
    "    return HTML(tabulate(\n",
    "        [\n",
    "            ['proper prefixes:'] + format(properPrefixes),\n",
    "            ['proper suffixes:'] + format(properSuffixes),\n",
    "            ['borders:'] + format(list(borders))\n",
    "        ],\n",
    "        tablefmt='html'))\n"
   ]
  },
  {
   "cell_type": "markdown",
   "metadata": {},
   "source": [
    "#### [Background] Largest Border Widths for each Prefix\n",
    "\n",
    "It is possible to compute the largest border width for each prefix using the algorithm in http://www.inf.fh-flensburg.de/lang/algorithmen/pattern/kmpen.htm#section2. Although for Boyer-Moore we are interested in suffix matching, the prefix variant of the algorithm is simpler but shares similar principles to the suffix version."
   ]
  },
  {
   "cell_type": "code",
   "execution_count": 5,
   "metadata": {},
   "outputs": [],
   "source": [
    "def computeLargestBorderWidths(pattern):\n",
    "    patternLength = len(pattern)\n",
    "    borderWidths = [0] * (patternLength + 1)\n",
    "    # prefix of length 0 has no border, thus width is -1      \n",
    "    borderWidths[0] = -1\n",
    "    \n",
    "    i = 0\n",
    "    j = -1\n",
    "    # go over each possible prefix from 0 to patternLength    \n",
    "    while i < patternLength:\n",
    "        # 'j' carries the previous border width (initially none, i.e. -1).\n",
    "        # Iterate over previous borders until we find one that can be extended\n",
    "        # with the new character at 'pattern[i]'.\n",
    "        # Note that the index of the next char in the border is the same\n",
    "        # as its width since we are indexing from 0.\n",
    "        while j >= 0 and pattern[i] != pattern[j]:\n",
    "            j = borderWidths[j]\n",
    "        # if border cannot be extended, then 'j' will be -1\n",
    "        # thus 'borderWidths[i] = 0' if no border exists\n",
    "        j += 1\n",
    "        i += 1\n",
    "        borderWidths[i] = j\n",
    "    return borderWidths"
   ]
  },
  {
   "cell_type": "markdown",
   "metadata": {},
   "source": [
    "Note that:\n",
    " * `i` goes over each individual character position in `pattern`\n",
    " * `j` is the next character of the previous border (if it exists).\n",
    " * The next character of the border will be at the exact position of the border width since the pattern starts at 0. Just like the first index out-of-bounds of the `pattern` is at `patternLength`. Thus, if a border has length 3 (i.e. from indexes 0 to 2 in pattern) then the next character after that border is at index 3.\n",
    " * Each loop of the algorithm will try to extend a previous border with the character at `pattern[i]`. And, the border cannot be extended, it will iterate over previous borders until the base case (`borderWidths[0] = -1`) is reached. Each previous border is stored at `borderWidths[j]` since we want previous borders of that prefix.\n",
    "\n",
    "__Examples using the IPython debugger:__"
   ]
  },
  {
   "cell_type": "code",
   "execution_count": 6,
   "metadata": {},
   "outputs": [],
   "source": [
    "def printState(vars):\n",
    "    patternValue = lambda index: \"\" if index < 0 or index >= (len(vars['pattern'])) else vars['pattern'][index]\n",
    "    table = tabulate([\n",
    "            ['pattern:'] + list(vars['pattern']),\n",
    "            ['index:'] + list(range(len(vars['pattern']))),\n",
    "            ['borderWidths'] + vars['borderWidths'],\n",
    "#         prefix from [0 .. i]\n",
    "            ['i:', vars['i'], patternValue(vars['i'])],\n",
    "#         border from [0 .. j]\n",
    "            ['j:', vars['j'], patternValue(vars['j'])]\n",
    "        ], tablefmt='grid')\n",
    "    print(table)\n",
    "\n",
    "# Once you uncomment the examples below, the debugger will be triggered and stop all other cells.\n",
    "# Type 'exit' to exit the debugger.\n",
    "    \n",
    "# Use the following ipdb command to step to next statement and print state once in the debugger.\n",
    "# ipdb> n;;pp printState(locals())\n",
    "\n",
    "# Example 1: Successfully extending previous border.\n",
    "# runcall(computeLargestBorderWidths, \"okamoka\")\n",
    "# ipdb> b 10, i == 4;;continue;;pp printState(locals())\n",
    "\n",
    "# Example 2: Failure to extend previous border, with no existing previous border.\n",
    "# runcall(computeLargestBorderWidths, \"okamokato\")\n",
    "# ipdb> b 10, i == 7;;continue;;pp printState(locals())\n",
    "\n",
    "# Example 3: Failure to extend previous border, with existing previous border.\n",
    "# runcall(computeLargestBorderWidths, \"aaabaac\")\n",
    "# ipdb> b 10, i == 6;;continue;;pp printState(locals())"
   ]
  },
  {
   "cell_type": "markdown",
   "metadata": {},
   "source": [
    "__Result Tabled Representation:__"
   ]
  },
  {
   "cell_type": "code",
   "execution_count": 7,
   "metadata": {},
   "outputs": [
    {
     "data": {
      "application/vnd.jupyter.widget-view+json": {
       "model_id": "ceffb92057274393bc6edb787f12e339",
       "version_major": 2,
       "version_minor": 0
      },
      "text/plain": [
       "interactive(children=(Text(value='ababaa', description='pattern'), Output()), _dom_classes=('widget-interact',…"
      ]
     },
     "metadata": {},
     "output_type": "display_data"
    }
   ],
   "source": [
    "@interact(pattern = 'ababaa')\n",
    "def showComputeLargestPrefixBorderWidths(pattern):\n",
    "    borderWidths = computeLargestBorderWidths(pattern)\n",
    "    \n",
    "    display(HTML('<h5>Precompute Prefixes Border Widths:</h5>'))\n",
    "    display(HTML(tabulate(\n",
    "        [\n",
    "            ['pattern:'] + list(pattern),\n",
    "            ['indexes:'] + list(range(0, len(pattern)+1)),\n",
    "            ['borderWidths:'] + borderWidths\n",
    "        ],\n",
    "        tablefmt='html')))\n",
    "    \n",
    "    display(HTML('<h5>Meaning with underlined largest prefix border:</h5>'))\n",
    "    examples = []\n",
    "    for i in range(0, len(borderWidths)):\n",
    "        width = borderWidths[i]\n",
    "        borderEnd = max(width,0)\n",
    "        border = pattern[0:borderEnd]\n",
    "        prefixAfterBorderEnd = pattern[borderEnd:i]\n",
    "        examples.append([i, width, '<u>{}</u>{}'.format(border, prefixAfterBorderEnd)])\n",
    "    \n",
    "    display(HTML(tabulate(examples, tablefmt='html', headers=['i', 'width', 'prefix'])))"
   ]
  },
  {
   "cell_type": "markdown",
   "metadata": {},
   "source": [
    "Note the meaning of the border indexes: for a prefix ending at index `i` (i.e. without the current character), the width of the border is `borderWidths[i]`. Thus, when we have pattern `okamoka` with `borderWidths[5] = 1` it means that for prefix `okamo` of the pattern there is a border of length `1` i.e. `o`."
   ]
  },
  {
   "cell_type": "markdown",
   "metadata": {},
   "source": [
    "#### 1.2.1. Precomputing the Borders of Suffixes of a Pattern\n",
    "\n",
    "For Boyer-Moore we need to instead look at suffixes."
   ]
  },
  {
   "cell_type": "code",
   "execution_count": 8,
   "metadata": {},
   "outputs": [],
   "source": [
    "def computeLargestSuffixBorderIndexAndShift(pattern):\n",
    "    patternLength = len(pattern)\n",
    "    \n",
    "    shift = [0] * (patternLength + 1)\n",
    "    \n",
    "    borderIndex = [0] * (patternLength + 1)\n",
    "    borderIndex[patternLength] = patternLength + 1\n",
    "\n",
    "    i = patternLength\n",
    "    j = patternLength + 1\n",
    "    # go over each possible suffix from right-to-left     \n",
    "    while i > 0:\n",
    "        while j <= patternLength and pattern[i-1] != pattern[j-1]:\n",
    "            # mismatch occurred, and no previous shift is known, then keep this shift\n",
    "            if shift[j] == 0:\n",
    "                shift[j] = j - i\n",
    "            j = borderIndex[j]\n",
    "            \n",
    "        # if border cannot be extended, then 'j' will be (patternLenght + 1)\n",
    "        # thus 'borderIndex[i] = (patternLenght + 1)' if no border exists\n",
    "        i -= 1\n",
    "        j -= 1\n",
    "        borderIndex[i] = j\n",
    "    return (borderIndex, shift)"
   ]
  },
  {
   "cell_type": "markdown",
   "metadata": {},
   "source": [
    "* `borderIndex[i]` contains the starting index in `pattern` of the widest border of the suffix of `pattern` beginning at index `i`. Since these are suffixes, the ending position corresponds to the length of `pattern`.\n",
    "In other words, for `suffix = pattern[from i to end]` its widest border is `pattern[from borderIndex[i] to end]`.\n",
    "\n",
    "__Examples with IPython debugger:__"
   ]
  },
  {
   "cell_type": "code",
   "execution_count": 13,
   "metadata": {},
   "outputs": [],
   "source": [
    "def printState(vars):\n",
    "    patternValue = lambda index: \"\" if index < 0 or index >= (len(vars['pattern'])) else vars['pattern'][index]\n",
    "    table = tabulate([\n",
    "            ['pattern:'] + [ (str(k) + ':' + v) for (k,v) in zip(list(range(len(vars['pattern']))), list(vars['pattern']))],\n",
    "            ['borderIndex'] + vars['borderIndex'],\n",
    "            ['shift'] + vars['shift'],\n",
    "#         suffix from [i to end]\n",
    "#         border from [j to end]\n",
    "            ['i:', vars['i'], patternValue(vars['i'])],\n",
    "            ['j:', vars['j'], patternValue(vars['j'])]\n",
    "        ], tablefmt='grid')\n",
    "    print(table)\n",
    "\n",
    "# Once you uncomment the examples below, the debugger will be triggered and stop all other cells.\n",
    "# Type 'exit' to exit the debugger.\n",
    "    \n",
    "# Use the following ipdb command to step to next statement and print state once in the debugger.\n",
    "# ipdb> n;;pp printState(locals())\n",
    "\n",
    "# TODO: add actual examples\n",
    "# Example 1: successful border extensions\n",
    "# Example 2: failed to extend existing border, no other borders to iterate\n",
    "# Example 3: failed to extend existing border, iterate over several borders\n",
    "# Example 4: shift that is not stored since there is a shorter shift\n",
    "\n",
    "# runcall(computeLargestSuffixBorderIndexAndShift, \"okamoka\")\n",
    "# ipdb> b 12, i == 2;;continue;;pp printState(locals())\n"
   ]
  },
  {
   "cell_type": "code",
   "execution_count": 10,
   "metadata": {},
   "outputs": [
    {
     "data": {
      "application/vnd.jupyter.widget-view+json": {
       "model_id": "ae808eb6942c4a06b645596aa45947cc",
       "version_major": 2,
       "version_minor": 0
      },
      "text/plain": [
       "interactive(children=(Text(value='abbabab', description='pattern'), Output()), _dom_classes=('widget-interact'…"
      ]
     },
     "metadata": {},
     "output_type": "display_data"
    }
   ],
   "source": [
    "@interact(pattern = 'abbabab')\n",
    "def showComputeLargestSuffixBorderIndexesAndShift(pattern):\n",
    "    (borderPosition, shift) = computeLargestSuffixBorderIndexAndShift(pattern)\n",
    "    \n",
    "    display(HTML('<h5>Precompute Suffix Border Indexes:</h5>'))\n",
    "    display(HTML(tabulate(\n",
    "        [\n",
    "            ['pattern:'] + list(pattern),\n",
    "            ['indexes:'] + list(range(0, len(pattern)+1)),\n",
    "            ['suffix border index:'] + borderPosition,\n",
    "            ['shift:'] + shift\n",
    "        ],\n",
    "        tablefmt='html')))\n",
    "    \n",
    "    display(HTML('<h5>Meaning with underlined largest suffix border:</h5>'))\n",
    "    examples = []\n",
    "    for i in range(0, len(borderPosition)):\n",
    "        # start index of border         \n",
    "        borderStartIndex = borderPosition[i]\n",
    "        suffix = pattern[borderStartIndex:]\n",
    "        prefix = pattern[i:borderStartIndex]\n",
    "\n",
    "        examples.insert(0, [i, borderStartIndex, '{}<u>{}</u>'.format(prefix, suffix), shift[i]])\n",
    "    \n",
    "    display(HTML(tabulate(examples, tablefmt='html', headers=['i', 'border<br/>position', 'suffix', 'shift'])))"
   ]
  },
  {
   "cell_type": "code",
   "execution_count": 11,
   "metadata": {},
   "outputs": [
    {
     "data": {
      "application/vnd.jupyter.widget-view+json": {
       "model_id": "5b19d27dae814b6893698d609f74c61c",
       "version_major": 2,
       "version_minor": 0
      },
      "text/plain": [
       "interactive(children=(Text(value='abbabab', description='pattern'), Output()), _dom_classes=('widget-interact'…"
      ]
     },
     "metadata": {},
     "output_type": "display_data"
    }
   ],
   "source": [
    "def computeSuffixLargestShift(shift, borderIndex, patternLength):\n",
    "    # copy input shift into finalShift to avoid mutations\n",
    "    finalShift = list(shift);\n",
    "\n",
    "    # widest border of the full pattern\n",
    "    widestBorderIndex = borderIndex[0];\n",
    "    \n",
    "    # go over all suffixes from largest to smallest, i.e. start with suffix[from 0 to end].\n",
    "    for i in range(0, patternLength+1):\n",
    "        # when no shift was assigned yet, give it the largest currently known\n",
    "        if finalShift[i] == 0:\n",
    "            finalShift[i] = widestBorderIndex\n",
    "        # when we reach the 'widest border index' we must get the next\n",
    "        # widest since the previous value would be outside the bounds of the suffix\n",
    "        # (i.e. would start before the next suffix start index)\n",
    "        if i == widestBorderIndex:\n",
    "            widestBorderIndex = borderIndex[widestBorderIndex]\n",
    "\n",
    "    return finalShift\n",
    "\n",
    "@interact(pattern = 'abbabab')\n",
    "def show(pattern):\n",
    "    m = len(pattern)\n",
    "    (borderIndex,shift) = computeLargestSuffixBorderIndexAndShift(pattern)\n",
    "    finalShift = computeSuffixLargestShift(shift, borderIndex, m)\n",
    "    \n",
    "    table = [[\"indexes:\"] + list(range(0, m+1)),\n",
    "             [\"pattern:\"] + list(pattern),\n",
    "             [\"borderIndex:\"] + borderIndex,\n",
    "             [\"shift:\"] + shift,\n",
    "             [\"finalShift:\"] + finalShift ]\n",
    "    return HTML(tabulate(table, tablefmt='html'))"
   ]
  },
  {
   "cell_type": "markdown",
   "metadata": {},
   "source": [
    "Where `borderIndex` is the border index array, with values such that `borderIndex[i]` is the left-most border index in the pattern.\n",
    "\n",
    "\n",
    "Where `finalShift[i]` contains the shift distance of the pattern if a mismatch at position `i – 1` occurs, i.e. if the suffix of the pattern starting at position `i` has matched."
   ]
  },
  {
   "cell_type": "markdown",
   "metadata": {},
   "source": [
    "## Final Algorithm"
   ]
  },
  {
   "cell_type": "code",
   "execution_count": 12,
   "metadata": {},
   "outputs": [
    {
     "data": {
      "application/vnd.jupyter.widget-view+json": {
       "model_id": "1cb748945f4c450d89b442d9e17c8c57",
       "version_major": 2,
       "version_minor": 0
      },
      "text/plain": [
       "interactive(children=(Text(value='dog', description='pattern'), Textarea(value='my dog does not like other dog…"
      ]
     },
     "metadata": {},
     "output_type": "display_data"
    }
   ],
   "source": [
    "def bmPreprocess(pattern):\n",
    "    badCharacterTable = computeBadCharacterTable(pattern)\n",
    "    (borderIndex,shift) = computeLargestSuffixBorderIndexAndShift(pattern)\n",
    "    goodSuffixTable = computeSuffixLargestShift(shift, borderIndex, len(pattern))\n",
    "    return (badCharacterTable, goodSuffixTable)\n",
    "\n",
    "def bmSearch(pattern, text):\n",
    "    result = []\n",
    "    patternLength = len(pattern)\n",
    "    textLength = len(text)\n",
    "    (badCharacterTable, goodSuffixTable) = bmPreprocess(pattern)\n",
    "    \n",
    "    i = 0\n",
    "    j = 0\n",
    "    # search from start to end, while pattern fits in text     \n",
    "    while i <= (textLength-patternLength):\n",
    "        j = patternLength-1\n",
    "        while j>=0 and pattern[j] == text[i+j]:\n",
    "            j -= 1\n",
    "            \n",
    "        if j<0:\n",
    "            result.append(i)\n",
    "            i += goodSuffixTable[0]\n",
    "        else:\n",
    "            # j+1 was the previous char that matched in pattern\n",
    "            # (i.e. j is the mismatch)\n",
    "            goodSuffixRule = goodSuffixTable[j+1]\n",
    "            # the character in the text that failed is at 'i+j'\n",
    "            # if no entry is found use -1 as default.\n",
    "            # Note that the badCharacterRule may return a negative number.\n",
    "            # For instance:\n",
    "            # pattern: putato\n",
    "            #    text: potato\n",
    "            # this would cause the algorithm to not terminate, if there was no goodSuffixRule\n",
    "            # to cover this situation as the second bad character implies there must exist a\n",
    "            # suffix. Thus, the goodSuffixRule should have a positive value for shifting.\n",
    "            badCharacterRule = j-badCharacterTable.get(text[i+j], -1)\n",
    "            i += max(goodSuffixRule, badCharacterRule)\n",
    "\n",
    "    return result\n",
    "\n",
    "@interact(pattern = 'dog', text = Textarea(value='my dog does not like other dogs'))\n",
    "def showBM(pattern, text):\n",
    "    patternLength = len(pattern)\n",
    "    if patternLength <= 0:\n",
    "        return \"ERROR: Pattern must be non-empty.\"\n",
    "    indexes = bmSearch(pattern, text)\n",
    "    \n",
    "    cutText = text\n",
    "    result = []\n",
    "    for i in reversed(indexes):\n",
    "        matchedPattern = cutText[i:i+patternLength]\n",
    "        afterPattern = cutText[i+patternLength:]\n",
    "        result = ['<b><u>', matchedPattern, '</u></b>', afterPattern] + result\n",
    "        cutText = cutText[0:i]\n",
    "        \n",
    "    result = ''.join([cutText] + result)\n",
    "    display(HTML(result))\n",
    "    \n",
    "    return indexes"
   ]
  },
  {
   "cell_type": "markdown",
   "metadata": {},
   "source": [
    "## References\n",
    "\n",
    "1. Article with detailed explanation: http://www.inf.fh-flensburg.de/lang/algorithmen/pattern/bmen.htm\n",
    "1. Original paper: http://www.cs.utexas.edu/~moore/publications/fstrpos.pdf\n",
    "1. Wikipedia article: https://en.wikipedia.org/wiki/Boyer–Moore_string_search_algorithm\n",
    "1. Visualization: http://whocouldthat.be/visualizing-string-matching/\n",
    "1. https://stackoverflow.com/questions/13175739/what-are-the-shift-rules-for-boyer-moore-string-search-algorithm\n",
    "1. http://stackoverflow.com/questions/19345263/boyer-moore-good-suffix-heuristics\n",
    "1. https://www.geeksforgeeks.org/pattern-searching-set-7-boyer-moore-algorithm-bad-character-heuristic/\n",
    "1. https://www.geeksforgeeks.org/boyer-moore-algorithm-good-suffix-heuristic/\n",
    "1. https://www.youtube.com/watch?v=NinWEPPrkDQ\n",
    "1. http://www.cs.uku.fi/~kilpelai/BSA05/lectures/slides03.pdf\n",
    "1. Article: https://dzone.com/articles/algorithm-week-boyer-moore\n",
    "1. Implementation with only last char: https://people.ok.ubc.ca/ylucet/DS/BoyerMoore.html"
   ]
  }
 ],
 "metadata": {
  "kernelspec": {
   "display_name": "Python 3",
   "language": "python",
   "name": "python3"
  },
  "language_info": {
   "codemirror_mode": {
    "name": "ipython",
    "version": 3
   },
   "file_extension": ".py",
   "mimetype": "text/x-python",
   "name": "python",
   "nbconvert_exporter": "python",
   "pygments_lexer": "ipython3",
   "version": "3.5.1"
  }
 },
 "nbformat": 4,
 "nbformat_minor": 2
}
