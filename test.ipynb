{
 "cells": [
  {
   "cell_type": "markdown",
   "metadata": {},
   "source": [
    "# This is a test\n",
    "\n",
    "It should work fine, I think."
   ]
  },
  {
   "cell_type": "code",
   "execution_count": 1,
   "metadata": {},
   "outputs": [],
   "source": [
    "from IPython.core.display import HTML\n",
    "from time import sleep\n",
    "\n",
    "# could not get d3.v4.min.js to load correctly\n",
    "# TODO: figure out what is wrong with it... (could it be the initial comments?)\n",
    "\n",
    "# For using the CDN version (default to please mybinder)\n",
    "# <script src=\"https://d3js.org/d3.v3.min.js\"></script>\n",
    "HTML(\"\"\"\n",
    "<script src=\"lib/d3.v3.min.js\"></script>\n",
    "<div id='test-ref'>unknown d3 status</div>\n",
    "<script>document.getElementById('test-ref').innerHTML = JSON.stringify(d3);</script>\n",
    "\"\"\")\n"
   ]
  },
  {
   "cell_type": "code",
   "execution_count": 2,
   "metadata": {},
   "outputs": [
    {
     "data": {
      "text/html": [
       "\n",
       "    <style> \n",
       "svg {\n",
       "    background: lightgray;\n",
       "    border-style: solid;\n",
       "    border-color: black;\n",
       "}\n",
       " </style>\n",
       "    <div id=\"graph-div\"></div>\n",
       "    <script> \n",
       "var margin = {top: 20, right: 20, bottom: 30, left: 40},\n",
       "width = 500 - margin.left - margin.right,\n",
       "height = 300 - margin.top - margin.bottom;\n",
       "\n",
       "var svg = d3.select('#graph-div')\n",
       ".append('svg')\n",
       ".attr(\"width\", width + margin.left + margin.right)\n",
       ".attr(\"height\", height + margin.top + margin.bottom);\n",
       "\n",
       "svg.append('rect')\n",
       ".attr(\"id\", \"my-rect\")\n",
       ".attr(\"x\", 10)\n",
       ".attr(\"y\", 10)\n",
       ".attr(\"width\", 80)\n",
       ".attr(\"height\", 80)\n",
       ".style(\"fill\", \"blue\")\n",
       ".transition()\n",
       ".duration(1000)\n",
       ".attr(\"x\", 200)\n",
       ".attr(\"y\", 200);\n",
       " </script>\n",
       "    "
      ],
      "text/plain": [
       "<IPython.core.display.HTML object>"
      ]
     },
     "execution_count": 2,
     "metadata": {},
     "output_type": "execute_result"
    }
   ],
   "source": [
    "from utils import test\n",
    "\n",
    "test.runJs()"
   ]
  },
  {
   "cell_type": "code",
   "execution_count": 10,
   "metadata": {},
   "outputs": [
    {
     "data": {
      "text/html": [
       "\n",
       "    <script>\n",
       "    svg.select('#my-rect')\n",
       "        .transition()\n",
       "        .duration(1000)\n",
       "        .attr(\"width\", 50)\n",
       "        .attr(\"height\", 50);\n",
       "    </script>\n",
       "    "
      ],
      "text/plain": [
       "<IPython.core.display.HTML object>"
      ]
     },
     "metadata": {},
     "output_type": "display_data"
    }
   ],
   "source": [
    "from utils import test\n",
    "from __future__ import print_function\n",
    "from ipywidgets import interact, interactive, fixed, interact_manual\n",
    "import ipywidgets as widgets\n",
    "\n",
    "@interact(\n",
    "    w=widgets.IntSlider(min=5,max=200,step=1,value=50),\n",
    "    h=widgets.IntSlider(min=5,max=200,step=1,value=50)\n",
    ")\n",
    "def changeR(w,h):\n",
    "    return test.modify(w,h)"
   ]
  },
  {
   "cell_type": "code",
   "execution_count": 11,
   "metadata": {},
   "outputs": [
    {
     "name": "stdout",
     "output_type": "stream",
     "text": [
      "hello!\n"
     ]
    }
   ],
   "source": [
    "print(\"hello!\")"
   ]
  },
  {
   "cell_type": "code",
   "execution_count": 12,
   "metadata": {},
   "outputs": [
    {
     "name": "stdout",
     "output_type": "stream",
     "text": [
      "1\n",
      "2\n",
      "3\n",
      "4\n"
     ]
    }
   ],
   "source": [
    "from IPython.core.debugger import set_trace\n",
    "\n",
    "for x in range(1, 5):\n",
    "#     set_trace()\n",
    "    # show me my comment!     \n",
    "    print( \"%d\" % (x))\n"
   ]
  },
  {
   "cell_type": "code",
   "execution_count": 13,
   "metadata": {},
   "outputs": [],
   "source": [
    "from __future__ import print_function\n",
    "from ipywidgets import interact, interactive, fixed, interact_manual\n",
    "import ipywidgets as widgets"
   ]
  },
  {
   "cell_type": "markdown",
   "metadata": {},
   "source": [
    "We should read: [this link](http://ipywidgets.readthedocs.io/en/latest/examples/Using%20Interact.html)"
   ]
  },
  {
   "cell_type": "code",
   "execution_count": 14,
   "metadata": {},
   "outputs": [],
   "source": [
    "def f(x):\n",
    "    return x.upper() * 2"
   ]
  },
  {
   "cell_type": "code",
   "execution_count": 15,
   "metadata": {},
   "outputs": [
    {
     "data": {
      "text/plain": [
       "'HELLOHELLO'"
      ]
     },
     "metadata": {},
     "output_type": "display_data"
    }
   ],
   "source": [
    "interact(f, x='hello');"
   ]
  },
  {
   "cell_type": "markdown",
   "metadata": {},
   "source": [
    "## References\n",
    "\n",
    "1. https://medium.com/@stallonejacob/d3-in-juypter-notebook-685d6dca75c8"
   ]
  }
 ],
 "metadata": {
  "kernelspec": {
   "display_name": "Python 3",
   "language": "python",
   "name": "python3"
  },
  "language_info": {
   "codemirror_mode": {
    "name": "ipython",
    "version": 3
   },
   "file_extension": ".py",
   "mimetype": "text/x-python",
   "name": "python",
   "nbconvert_exporter": "python",
   "pygments_lexer": "ipython3",
   "version": "3.6.5"
  }
 },
 "nbformat": 4,
 "nbformat_minor": 2
}
